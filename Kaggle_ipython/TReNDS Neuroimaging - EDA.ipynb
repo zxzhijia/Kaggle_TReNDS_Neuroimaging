{
 "cells": [
  {
   "cell_type": "code",
   "execution_count": 3,
   "metadata": {
    "_cell_guid": "b1076dfc-b9ad-4769-8c92-a6c4dae69d19",
    "_kg_hide-input": true,
    "_uuid": "8f2839f25d086af736a60e9eeb907d3b93b6e0e5",
    "collapsed": false
   },
   "outputs": [],
   "source": [
    "import re\n",
    "\n",
    "import numpy as np\n",
    "import pandas as pd\n",
    "pd.set_option('display.max_rows', 500)\n",
    "pd.set_option('display.max_columns', 500)\n",
    "pd.set_option('display.width', 1000)\n",
    "\n",
    "import matplotlib.pyplot as plt\n",
    "import seaborn as sns"
   ]
  },
  {
   "cell_type": "code",
   "execution_count": 2,
   "metadata": {
    "collapsed": false
   },
   "outputs": [
    {
     "ename": "FileNotFoundError",
     "evalue": "[Errno 2] File ../input/trends-assessment-prediction/fnc.csv does not exist: '../input/trends-assessment-prediction/fnc.csv'",
     "output_type": "error",
     "traceback": [
      "\u001b[0;31m\u001b[0m",
      "\u001b[0;31mFileNotFoundError\u001b[0mTraceback (most recent call last)",
      "\u001b[0;32m<ipython-input-2-71b97df3993b>\u001b[0m in \u001b[0;36m<module>\u001b[0;34m\u001b[0m\n\u001b[0;32m----> 1\u001b[0;31m \u001b[0mdf_fnc\u001b[0m \u001b[0;34m=\u001b[0m \u001b[0mpd\u001b[0m\u001b[0;34m.\u001b[0m\u001b[0mread_csv\u001b[0m\u001b[0;34m(\u001b[0m\u001b[0;34m'../input/trends-assessment-prediction/fnc.csv'\u001b[0m\u001b[0;34m)\u001b[0m\u001b[0;34m\u001b[0m\u001b[0;34m\u001b[0m\u001b[0m\n\u001b[0m\u001b[1;32m      2\u001b[0m \u001b[0mdf_loading\u001b[0m \u001b[0;34m=\u001b[0m \u001b[0mpd\u001b[0m\u001b[0;34m.\u001b[0m\u001b[0mread_csv\u001b[0m\u001b[0;34m(\u001b[0m\u001b[0;34m'../input/trends-assessment-prediction/loading.csv'\u001b[0m\u001b[0;34m)\u001b[0m\u001b[0;34m\u001b[0m\u001b[0;34m\u001b[0m\u001b[0m\n\u001b[1;32m      3\u001b[0m \u001b[0mdf_train_scores\u001b[0m \u001b[0;34m=\u001b[0m \u001b[0mpd\u001b[0m\u001b[0;34m.\u001b[0m\u001b[0mread_csv\u001b[0m\u001b[0;34m(\u001b[0m\u001b[0;34m'../input/trends-assessment-prediction/train_scores.csv'\u001b[0m\u001b[0;34m)\u001b[0m\u001b[0;34m\u001b[0m\u001b[0;34m\u001b[0m\u001b[0m\n\u001b[1;32m      4\u001b[0m \u001b[0;34m\u001b[0m\u001b[0m\n\u001b[1;32m      5\u001b[0m \u001b[0mfnc_features\u001b[0m\u001b[0;34m,\u001b[0m \u001b[0mloading_features\u001b[0m \u001b[0;34m=\u001b[0m \u001b[0mlist\u001b[0m\u001b[0;34m(\u001b[0m\u001b[0mdf_fnc\u001b[0m\u001b[0;34m.\u001b[0m\u001b[0mcolumns\u001b[0m\u001b[0;34m[\u001b[0m\u001b[0;36m1\u001b[0m\u001b[0;34m:\u001b[0m\u001b[0;34m]\u001b[0m\u001b[0;34m)\u001b[0m\u001b[0;34m,\u001b[0m \u001b[0mlist\u001b[0m\u001b[0;34m(\u001b[0m\u001b[0mdf_loading\u001b[0m\u001b[0;34m.\u001b[0m\u001b[0mcolumns\u001b[0m\u001b[0;34m[\u001b[0m\u001b[0;36m1\u001b[0m\u001b[0;34m:\u001b[0m\u001b[0;34m]\u001b[0m\u001b[0;34m)\u001b[0m\u001b[0;34m\u001b[0m\u001b[0;34m\u001b[0m\u001b[0m\n",
      "\u001b[0;32m~/anaconda3/lib/python3.7/site-packages/pandas/io/parsers.py\u001b[0m in \u001b[0;36mparser_f\u001b[0;34m(filepath_or_buffer, sep, delimiter, header, names, index_col, usecols, squeeze, prefix, mangle_dupe_cols, dtype, engine, converters, true_values, false_values, skipinitialspace, skiprows, skipfooter, nrows, na_values, keep_default_na, na_filter, verbose, skip_blank_lines, parse_dates, infer_datetime_format, keep_date_col, date_parser, dayfirst, cache_dates, iterator, chunksize, compression, thousands, decimal, lineterminator, quotechar, quoting, doublequote, escapechar, comment, encoding, dialect, error_bad_lines, warn_bad_lines, delim_whitespace, low_memory, memory_map, float_precision)\u001b[0m\n\u001b[1;32m    674\u001b[0m         )\n\u001b[1;32m    675\u001b[0m \u001b[0;34m\u001b[0m\u001b[0m\n\u001b[0;32m--> 676\u001b[0;31m         \u001b[0;32mreturn\u001b[0m \u001b[0m_read\u001b[0m\u001b[0;34m(\u001b[0m\u001b[0mfilepath_or_buffer\u001b[0m\u001b[0;34m,\u001b[0m \u001b[0mkwds\u001b[0m\u001b[0;34m)\u001b[0m\u001b[0;34m\u001b[0m\u001b[0;34m\u001b[0m\u001b[0m\n\u001b[0m\u001b[1;32m    677\u001b[0m \u001b[0;34m\u001b[0m\u001b[0m\n\u001b[1;32m    678\u001b[0m     \u001b[0mparser_f\u001b[0m\u001b[0;34m.\u001b[0m\u001b[0m__name__\u001b[0m \u001b[0;34m=\u001b[0m \u001b[0mname\u001b[0m\u001b[0;34m\u001b[0m\u001b[0;34m\u001b[0m\u001b[0m\n",
      "\u001b[0;32m~/anaconda3/lib/python3.7/site-packages/pandas/io/parsers.py\u001b[0m in \u001b[0;36m_read\u001b[0;34m(filepath_or_buffer, kwds)\u001b[0m\n\u001b[1;32m    446\u001b[0m \u001b[0;34m\u001b[0m\u001b[0m\n\u001b[1;32m    447\u001b[0m     \u001b[0;31m# Create the parser.\u001b[0m\u001b[0;34m\u001b[0m\u001b[0;34m\u001b[0m\u001b[0;34m\u001b[0m\u001b[0m\n\u001b[0;32m--> 448\u001b[0;31m     \u001b[0mparser\u001b[0m \u001b[0;34m=\u001b[0m \u001b[0mTextFileReader\u001b[0m\u001b[0;34m(\u001b[0m\u001b[0mfp_or_buf\u001b[0m\u001b[0;34m,\u001b[0m \u001b[0;34m**\u001b[0m\u001b[0mkwds\u001b[0m\u001b[0;34m)\u001b[0m\u001b[0;34m\u001b[0m\u001b[0;34m\u001b[0m\u001b[0m\n\u001b[0m\u001b[1;32m    449\u001b[0m \u001b[0;34m\u001b[0m\u001b[0m\n\u001b[1;32m    450\u001b[0m     \u001b[0;32mif\u001b[0m \u001b[0mchunksize\u001b[0m \u001b[0;32mor\u001b[0m \u001b[0miterator\u001b[0m\u001b[0;34m:\u001b[0m\u001b[0;34m\u001b[0m\u001b[0;34m\u001b[0m\u001b[0m\n",
      "\u001b[0;32m~/anaconda3/lib/python3.7/site-packages/pandas/io/parsers.py\u001b[0m in \u001b[0;36m__init__\u001b[0;34m(self, f, engine, **kwds)\u001b[0m\n\u001b[1;32m    878\u001b[0m             \u001b[0mself\u001b[0m\u001b[0;34m.\u001b[0m\u001b[0moptions\u001b[0m\u001b[0;34m[\u001b[0m\u001b[0;34m\"has_index_names\"\u001b[0m\u001b[0;34m]\u001b[0m \u001b[0;34m=\u001b[0m \u001b[0mkwds\u001b[0m\u001b[0;34m[\u001b[0m\u001b[0;34m\"has_index_names\"\u001b[0m\u001b[0;34m]\u001b[0m\u001b[0;34m\u001b[0m\u001b[0;34m\u001b[0m\u001b[0m\n\u001b[1;32m    879\u001b[0m \u001b[0;34m\u001b[0m\u001b[0m\n\u001b[0;32m--> 880\u001b[0;31m         \u001b[0mself\u001b[0m\u001b[0;34m.\u001b[0m\u001b[0m_make_engine\u001b[0m\u001b[0;34m(\u001b[0m\u001b[0mself\u001b[0m\u001b[0;34m.\u001b[0m\u001b[0mengine\u001b[0m\u001b[0;34m)\u001b[0m\u001b[0;34m\u001b[0m\u001b[0;34m\u001b[0m\u001b[0m\n\u001b[0m\u001b[1;32m    881\u001b[0m \u001b[0;34m\u001b[0m\u001b[0m\n\u001b[1;32m    882\u001b[0m     \u001b[0;32mdef\u001b[0m \u001b[0mclose\u001b[0m\u001b[0;34m(\u001b[0m\u001b[0mself\u001b[0m\u001b[0;34m)\u001b[0m\u001b[0;34m:\u001b[0m\u001b[0;34m\u001b[0m\u001b[0;34m\u001b[0m\u001b[0m\n",
      "\u001b[0;32m~/anaconda3/lib/python3.7/site-packages/pandas/io/parsers.py\u001b[0m in \u001b[0;36m_make_engine\u001b[0;34m(self, engine)\u001b[0m\n\u001b[1;32m   1112\u001b[0m     \u001b[0;32mdef\u001b[0m \u001b[0m_make_engine\u001b[0m\u001b[0;34m(\u001b[0m\u001b[0mself\u001b[0m\u001b[0;34m,\u001b[0m \u001b[0mengine\u001b[0m\u001b[0;34m=\u001b[0m\u001b[0;34m\"c\"\u001b[0m\u001b[0;34m)\u001b[0m\u001b[0;34m:\u001b[0m\u001b[0;34m\u001b[0m\u001b[0;34m\u001b[0m\u001b[0m\n\u001b[1;32m   1113\u001b[0m         \u001b[0;32mif\u001b[0m \u001b[0mengine\u001b[0m \u001b[0;34m==\u001b[0m \u001b[0;34m\"c\"\u001b[0m\u001b[0;34m:\u001b[0m\u001b[0;34m\u001b[0m\u001b[0;34m\u001b[0m\u001b[0m\n\u001b[0;32m-> 1114\u001b[0;31m             \u001b[0mself\u001b[0m\u001b[0;34m.\u001b[0m\u001b[0m_engine\u001b[0m \u001b[0;34m=\u001b[0m \u001b[0mCParserWrapper\u001b[0m\u001b[0;34m(\u001b[0m\u001b[0mself\u001b[0m\u001b[0;34m.\u001b[0m\u001b[0mf\u001b[0m\u001b[0;34m,\u001b[0m \u001b[0;34m**\u001b[0m\u001b[0mself\u001b[0m\u001b[0;34m.\u001b[0m\u001b[0moptions\u001b[0m\u001b[0;34m)\u001b[0m\u001b[0;34m\u001b[0m\u001b[0;34m\u001b[0m\u001b[0m\n\u001b[0m\u001b[1;32m   1115\u001b[0m         \u001b[0;32melse\u001b[0m\u001b[0;34m:\u001b[0m\u001b[0;34m\u001b[0m\u001b[0;34m\u001b[0m\u001b[0m\n\u001b[1;32m   1116\u001b[0m             \u001b[0;32mif\u001b[0m \u001b[0mengine\u001b[0m \u001b[0;34m==\u001b[0m \u001b[0;34m\"python\"\u001b[0m\u001b[0;34m:\u001b[0m\u001b[0;34m\u001b[0m\u001b[0;34m\u001b[0m\u001b[0m\n",
      "\u001b[0;32m~/anaconda3/lib/python3.7/site-packages/pandas/io/parsers.py\u001b[0m in \u001b[0;36m__init__\u001b[0;34m(self, src, **kwds)\u001b[0m\n\u001b[1;32m   1889\u001b[0m         \u001b[0mkwds\u001b[0m\u001b[0;34m[\u001b[0m\u001b[0;34m\"usecols\"\u001b[0m\u001b[0;34m]\u001b[0m \u001b[0;34m=\u001b[0m \u001b[0mself\u001b[0m\u001b[0;34m.\u001b[0m\u001b[0musecols\u001b[0m\u001b[0;34m\u001b[0m\u001b[0;34m\u001b[0m\u001b[0m\n\u001b[1;32m   1890\u001b[0m \u001b[0;34m\u001b[0m\u001b[0m\n\u001b[0;32m-> 1891\u001b[0;31m         \u001b[0mself\u001b[0m\u001b[0;34m.\u001b[0m\u001b[0m_reader\u001b[0m \u001b[0;34m=\u001b[0m \u001b[0mparsers\u001b[0m\u001b[0;34m.\u001b[0m\u001b[0mTextReader\u001b[0m\u001b[0;34m(\u001b[0m\u001b[0msrc\u001b[0m\u001b[0;34m,\u001b[0m \u001b[0;34m**\u001b[0m\u001b[0mkwds\u001b[0m\u001b[0;34m)\u001b[0m\u001b[0;34m\u001b[0m\u001b[0;34m\u001b[0m\u001b[0m\n\u001b[0m\u001b[1;32m   1892\u001b[0m         \u001b[0mself\u001b[0m\u001b[0;34m.\u001b[0m\u001b[0munnamed_cols\u001b[0m \u001b[0;34m=\u001b[0m \u001b[0mself\u001b[0m\u001b[0;34m.\u001b[0m\u001b[0m_reader\u001b[0m\u001b[0;34m.\u001b[0m\u001b[0munnamed_cols\u001b[0m\u001b[0;34m\u001b[0m\u001b[0;34m\u001b[0m\u001b[0m\n\u001b[1;32m   1893\u001b[0m \u001b[0;34m\u001b[0m\u001b[0m\n",
      "\u001b[0;32mpandas/_libs/parsers.pyx\u001b[0m in \u001b[0;36mpandas._libs.parsers.TextReader.__cinit__\u001b[0;34m()\u001b[0m\n",
      "\u001b[0;32mpandas/_libs/parsers.pyx\u001b[0m in \u001b[0;36mpandas._libs.parsers.TextReader._setup_parser_source\u001b[0;34m()\u001b[0m\n",
      "\u001b[0;31mFileNotFoundError\u001b[0m: [Errno 2] File ../input/trends-assessment-prediction/fnc.csv does not exist: '../input/trends-assessment-prediction/fnc.csv'"
     ]
    }
   ],
   "source": [
    "df_fnc = pd.read_csv('../input/trends-assessment-prediction/fnc.csv')\n",
    "df_loading = pd.read_csv('../input/trends-assessment-prediction/loading.csv')\n",
    "df_train_scores = pd.read_csv('../input/trends-assessment-prediction/train_scores.csv')\n",
    "\n",
    "fnc_features, loading_features = list(df_fnc.columns[1:]), list(df_loading.columns[1:])\n",
    "df_train_scores['is_train'] = 1\n",
    "df = df_fnc.merge(df_loading, on='Id')\n",
    "df = df.merge(df_train_scores, how='left', on='Id')\n",
    "\n",
    "df.loc[df['is_train'].isnull(), 'is_train'] = 0\n",
    "df['is_train'] = df['is_train'].astype(np.uint8)\n",
    "\n",
    "print(f'Static FNC Correlation Shape = {df_fnc.shape}')\n",
    "print(f'Static FNC Correlation Memory Usage = {df_fnc.memory_usage().sum() / 1024 ** 2:.2f} MB')\n",
    "print(f'sMRI SBM Loadings Shape = {df_loading.shape}')\n",
    "print(f'sMRI SBM Loadings Memory Usage = {df_loading.memory_usage().sum() / 1024 ** 2:.2f} MB')\n",
    "print(f'Train Scores Shape = {df_train_scores.shape}')\n",
    "print(f'Train Scores Memory Usage = {df_train_scores.memory_usage().sum() / 1024 ** 2:.2f} MB')\n",
    "print('-------------------------------------')\n",
    "print(f'Train & Test Set Shape = {df.shape}')\n",
    "print(f'Train & Test Set Memory Usage = {df.memory_usage().sum() / 1024 ** 2:.2f} MB')\n",
    "\n",
    "del df_fnc, df_loading, df_train_scores\n"
   ]
  },
  {
   "cell_type": "markdown",
   "metadata": {
    "collapsed": false
   },
   "source": [
    "## **1. Train Scores (Targets)**\n",
    "`train_scores.csv` is the file which consists of target features. Those features are `age`, `domain1_var1`, `domain1_var2`, `domain2_var1` and `domain2_var2`. There are 5 target features to predict and submissions are scored using feature-weighted, normalized absolute errors.\n",
    "\n",
    "**score** ${= \\Large \\sum\\limits_{f} w_{f} \\Big( \\frac{\\sum_{i} \\big| y_{f,i}  - \\hat{y}_{f,i}\\big| }{\\sum_{i} \\hat{y}_{f,i}} \\Big) }$\n",
    "\n",
    "The weights are `[.3, .175, .175, .175, .175]` corresponding to features `[age, domain1_var1, domain1_var2, domain2_var1, domain2_var2]`. This means every targets normalized absolute error is independent from each other. They can be trained and predicted with a single model or 5 different models."
   ]
  },
  {
   "cell_type": "markdown",
   "metadata": {
    "collapsed": false
   },
   "source": [
    "Even though some of target features are slightly tailed, all of them follow a normal distribution. Their descriptive statistical summary are very similar to each other.\n",
    "\n",
    "A small percentage of values are missing in target features except `age`. Target features in the same domain have same number of missing values and they are missing in same samples.  Those are skipped in the score calculation. However, every row should be predicted in the submission file."
   ]
  },
  {
   "cell_type": "code",
   "execution_count": null,
   "metadata": {
    "_kg_hide-input": true,
    "collapsed": false
   },
   "outputs": [],
   "source": [
    "def plot_target(target_feature):    \n",
    "    \n",
    "    if target_feature == 'age':\n",
    "        print(f'Target feature {target_feature} Statistical Analysis\\n{\"-\" * 39}')\n",
    "    else:\n",
    "        print(f'Target feature {target_feature} Statistical Analysis\\n{\"-\" * 48}')\n",
    "        \n",
    "    print(f'Mean: {df[target_feature].mean():.4}  -  Median: {df[target_feature].median():.4}  -  Std: {df[target_feature].std():.4}')\n",
    "    print(f'Min: {df[target_feature].min():.4}  -  25%: {df[target_feature].quantile(0.25):.4}  -  50%: {df[target_feature].quantile(0.5):.4}  -  75%: {df[target_feature].quantile(0.75):.4}  -  Max: {df[target_feature].max():.4}')\n",
    "    print(f'Skew: {df[target_feature].skew():.4}  -  Kurtosis: {df[target_feature].kurtosis():.4}')\n",
    "    missing_values_count = df[(df['is_train'] == 1) & (df[target_feature]).isnull()].shape[0]\n",
    "    training_samples_count = df[df['is_train'] == 1].shape[0]\n",
    "    print(f'Missing Values: {missing_values_count}/{training_samples_count} ({missing_values_count * 100 / training_samples_count:.4}%)')\n",
    "\n",
    "    fig = plt.subplots(figsize=(6, 4), dpi=100)\n",
    "\n",
    "    sns.distplot(df[target_feature], label=target_feature)\n",
    "\n",
    "    plt.xlabel('')\n",
    "    plt.tick_params(axis='x', labelsize=12)\n",
    "    plt.tick_params(axis='y', labelsize=12)\n",
    "    plt.title(f'{target_feature} Distribution in Training Set')\n",
    "    plt.show()\n",
    "    \n",
    "for target_feature in ['age', 'domain1_var1', 'domain1_var2', 'domain2_var1', 'domain2_var2']:\n",
    "    plot_target(target_feature)"
   ]
  },
  {
   "cell_type": "markdown",
   "metadata": {
    "collapsed": false
   },
   "source": [
    "Target features are not correlated with each other too much. The strongest correlations are between `age` and `domain1_var1` (**0.34**), and between  `age` and `domain2_var1` (**0.23**). There might be a relationship between  `age` and var1 features."
   ]
  },
  {
   "cell_type": "code",
   "execution_count": null,
   "metadata": {
    "_kg_hide-input": true,
    "collapsed": false
   },
   "outputs": [],
   "source": [
    "fig = plt.figure(figsize=(10, 10), dpi=100)\n",
    "\n",
    "sns.heatmap(df[['age', 'domain1_var1', 'domain1_var2', 'domain2_var1', 'domain2_var2']].corr(),\n",
    "            annot=True,\n",
    "            square=True,\n",
    "            cmap='coolwarm',\n",
    "            annot_kws={'size': 14}, \n",
    "            fmt='.2f')   \n",
    "\n",
    "plt.tick_params(axis='x', labelsize=14, rotation=45)\n",
    "plt.tick_params(axis='y', labelsize=14, rotation=45)\n",
    "    \n",
    "plt.title('Target Features Correlations', size=18, pad=18)\n",
    "plt.show()"
   ]
  },
  {
   "cell_type": "markdown",
   "metadata": {
    "collapsed": false
   },
   "source": [
    "## **2. sMRI SBM Loadings**\n",
    "The first set of features are source-based morphometry (SBM) loadings. These are subject-level weights from a group-level ICA decomposition of gray matter concentration maps from structural MRI (sMRI) scans. Those features are for both training and test samples.\n",
    "\n",
    "There are **26** features in `loading.csv` file without `Id`. Those features are named from `IC_01` to `IC_30`, but `IC_19`, `IC_23`, `IC_25` and `IC_27` don't exist. They are parts of brain and their explanations are listed below:\n",
    "\n",
    "`\n",
    "IC_01 - Cerebellum\n",
    "IC_02 - ACC+mpfc\n",
    "IC_03 - Caudate\n",
    "IC_04 - Cerebellum\n",
    "IC_05 - Calcarine\n",
    "IC_06 - Calcarine\n",
    "IC_07 - Precuneus+PCC\n",
    "IC_08 - Frontal\n",
    "IC_09 - IPL+AG\n",
    "IC_10 - MTG\n",
    "IC_11 - Frontal\n",
    "IC_12 - SMA\n",
    "IC_13 - Temporal Pole\n",
    "IC_14 - Temporal Pole + Fusiform\n",
    "IC_15 - STG\n",
    "IC_16 - Middle Occipital?\n",
    "IC_17 - Cerebellum\n",
    "IC_18 - Cerebellum\n",
    "IC_20 - MCC\n",
    "IC_21 - Temporal Pole + Cerebellum\n",
    "IC_22 - Insula + Caudate\n",
    "IC_24 - IPL+Postcentral\n",
    "IC_26 - Inf+Mid Frontal\n",
    "IC_28 - Calcarine\n",
    "IC_29 - MTG\n",
    "IC_30 - Inf Frontal\n",
    "`\n",
    "\n",
    "All of the loading features follow a normal distribution. Their distributions and descriptive statistical summary in training and test samples are very similar except `IC_20`. It is an exception because the distribution of `IC_20` in test samples is slightly shifted. This feature may require some preprocessing.\n",
    "\n",
    "None of the loading features have a visible relationship with any of the targets. Data points of loading features are scattered around the means of `domain1_var1`, `domain1_var2`, `domain2_var1`, `domain2_var2`, however `age` has a tiny relationship with loading features. This relationship is not easy to detect but it looks like `age` is easier to predict than other target features."
   ]
  },
  {
   "cell_type": "code",
   "execution_count": null,
   "metadata": {
    "_kg_hide-input": true,
    "collapsed": false
   },
   "outputs": [],
   "source": [
    "def plot_loading(loading_feature):    \n",
    "    \n",
    "    print(f'Loading feature {loading_feature} Statistical Analysis\\n{\"-\" * 42}')\n",
    "        \n",
    "    print(f'Mean: {df[loading_feature].mean():.4}  -  Median: {df[loading_feature].median():.4}  -  Std: {df[loading_feature].std():.4}')\n",
    "    print(f'Min: {df[loading_feature].min():.4}  -  25%: {df[loading_feature].quantile(0.25):.4}  -  50%: {df[loading_feature].quantile(0.5):.4}  -  75%: {df[loading_feature].quantile(0.75):.4}  -  Max: {df[loading_feature].max():.4}')\n",
    "    print(f'Skew: {df[loading_feature].skew():.4}  -  Kurtosis: {df[loading_feature].kurtosis():.4}')\n",
    "    missing_values_count = df[df[loading_feature].isnull()].shape[0]\n",
    "    training_samples_count = df.shape[0]\n",
    "    print(f'Missing Values: {missing_values_count}/{training_samples_count} ({missing_values_count * 100 / training_samples_count:.4}%)')\n",
    "\n",
    "    fig, axes = plt.subplots(ncols=3, nrows=2, figsize=(25, 12), dpi=100, constrained_layout=True)\n",
    "    title_size = 18\n",
    "    label_size = 18\n",
    "\n",
    "    # Loading Feature Training and Test Set Distribution\n",
    "    sns.distplot(df[df['is_train'] == 1][loading_feature], label='Training', ax=axes[0][0])\n",
    "    sns.distplot(df[df['is_train'] == 0][loading_feature], label='Test', ax=axes[0][0])\n",
    "    axes[0][0].set_xlabel('')\n",
    "    axes[0][0].tick_params(axis='x', labelsize=label_size)\n",
    "    axes[0][0].tick_params(axis='y', labelsize=label_size)\n",
    "    axes[0][0].legend()\n",
    "    axes[0][0].set_title(f'{loading_feature} Distribution in Training and Test Set', size=title_size, pad=title_size)\n",
    "    \n",
    "    # Loading Feature vs age\n",
    "    sns.scatterplot(df[loading_feature], df['age'], ax=axes[0][1])\n",
    "    axes[0][1].set_title(f'{loading_feature} vs age', size=title_size, pad=title_size)\n",
    "    axes[0][1].set_xlabel('')\n",
    "    axes[0][1].set_ylabel('')\n",
    "    axes[0][1].tick_params(axis='x', labelsize=label_size)\n",
    "    axes[0][1].tick_params(axis='y', labelsize=label_size)\n",
    "    \n",
    "    # Loading Feature vs domain1_var1\n",
    "    sns.scatterplot(df[loading_feature], df['domain1_var1'], ax=axes[0][2])\n",
    "    axes[0][2].set_title(f'{loading_feature} vs domain1_var1', size=title_size, pad=title_size)\n",
    "    axes[0][2].set_xlabel('')\n",
    "    axes[0][2].set_ylabel('')\n",
    "    axes[0][2].tick_params(axis='x', labelsize=label_size)\n",
    "    axes[0][2].tick_params(axis='y', labelsize=label_size)\n",
    "    \n",
    "    # Loading Feature vs domain1_var2\n",
    "    sns.scatterplot(df[loading_feature], df['domain1_var2'], ax=axes[1][0])\n",
    "    axes[1][0].set_title(f'{loading_feature} vs domain1_var2', size=title_size, pad=title_size)\n",
    "    axes[1][0].set_xlabel('')\n",
    "    axes[1][0].set_ylabel('')\n",
    "    axes[1][0].tick_params(axis='x', labelsize=label_size)\n",
    "    axes[1][0].tick_params(axis='y', labelsize=label_size)\n",
    "    \n",
    "    # Loading Feature vs domain2_var1\n",
    "    sns.scatterplot(df[loading_feature], df['domain2_var1'], ax=axes[1][1])\n",
    "    axes[1][1].set_title(f'{loading_feature} vs domain2_var1', size=title_size, pad=title_size)\n",
    "    axes[1][1].set_xlabel('')\n",
    "    axes[1][1].set_ylabel('')\n",
    "    axes[1][1].tick_params(axis='x', labelsize=label_size)\n",
    "    axes[1][1].tick_params(axis='y', labelsize=label_size)\n",
    "    \n",
    "    # Loading Feature vs domain2_var2\n",
    "    sns.scatterplot(df[loading_feature], df['domain2_var2'], ax=axes[1][2])\n",
    "    axes[1][2].set_title(f'{loading_feature} vs domain2_var2', size=title_size, pad=title_size)\n",
    "    axes[1][2].set_xlabel('')\n",
    "    axes[1][2].set_ylabel('')\n",
    "    axes[1][2].tick_params(axis='x', labelsize=label_size)\n",
    "    axes[1][2].tick_params(axis='y', labelsize=label_size)\n",
    "    \n",
    "    plt.show()\n",
    "    \n",
    "for loading_feature in sorted(loading_features):\n",
    "    plot_loading(loading_feature)\n"
   ]
  },
  {
   "cell_type": "markdown",
   "metadata": {
    "collapsed": false
   },
   "source": [
    "There are strong correlations between `age` and some loading features that exceed **-0.4**, but none of the loading features are correlated with other targets.\n",
    "\n",
    "Loading features have decent correlations between themselves that exceed **0.5** and **-0.5**. Some of those high positive correlations belong to feature groups which are from the same part of the brain. However, all features from the same part of the brain are not necessarily correlated with each other, so there is no pattern here."
   ]
  },
  {
   "cell_type": "code",
   "execution_count": null,
   "metadata": {
    "_kg_hide-input": true,
    "collapsed": false
   },
   "outputs": [],
   "source": [
    "loading_target_features = sorted(loading_features) + ['age', 'domain1_var1', 'domain1_var2', 'domain2_var1', 'domain2_var2']\n",
    "\n",
    "fig = plt.figure(figsize=(30, 30), dpi=100)\n",
    "\n",
    "sns.heatmap(df[loading_target_features].corr(),\n",
    "            annot=True,\n",
    "            square=True,\n",
    "            cmap='coolwarm',\n",
    "            annot_kws={'size': 15}, \n",
    "            fmt='.2f')   \n",
    "\n",
    "plt.tick_params(axis='x', labelsize=18, rotation=45)\n",
    "plt.tick_params(axis='y', labelsize=18, rotation=45)\n",
    "\n",
    "plt.title('Target and Loading Features Correlations', size=25, pad=25)\n",
    "plt.show()"
   ]
  },
  {
   "cell_type": "markdown",
   "metadata": {
    "collapsed": false
   },
   "source": [
    "## **3. Static FNC Correlation Features**\n",
    "The second set of features are static functional network connectivity (FNC) matrices. These are the subject-level cross-correlation values among 53 component timecourses estimated from GIG-ICA of resting state functional MRI (fMRI).\n",
    "\n",
    "There are **1378** features in `fnc.csv` file without `Id`. Those features are named as `Network1(X)_vs_Network2(Y)` and there are **6** different networks. Network names and abbreviations are listed below:\n",
    "\n",
    "`\n",
    "SCN - Sub-cortical Network\n",
    "ADN - Auditory Network\n",
    "SMN - Sensorimotor Network\n",
    "VSN - Visual Network\n",
    "CON - Cognitive-control Network    \n",
    "DMN - Default-mode Network\n",
    "CBN - Cerebellar Network\n",
    "`\n",
    "\n",
    "Those groups might be useful to analyze **1378** features part by part."
   ]
  },
  {
   "cell_type": "code",
   "execution_count": null,
   "metadata": {
    "_kg_hide-input": true,
    "collapsed": false
   },
   "outputs": [],
   "source": [
    "def plot_fnc(fnc_feature):    \n",
    "    \n",
    "    print(f'FNC feature {fnc_feature} Statistical Analysis\\n{\"-\" * 51}')\n",
    "        \n",
    "    print(f'Mean: {df[fnc_feature].mean():.4}  -  Median: {df[fnc_feature].median():.4}  -  Std: {df[fnc_feature].std():.4}')\n",
    "    print(f'Min: {df[fnc_feature].min():.4}  -  25%: {df[fnc_feature].quantile(0.25):.4}  -  50%: {df[fnc_feature].quantile(0.5):.4}  -  75%: {df[fnc_feature].quantile(0.75):.4}  -  Max: {df[fnc_feature].max():.4}')\n",
    "    print(f'Skew: {df[fnc_feature].skew():.4}  -  Kurtosis: {df[fnc_feature].kurtosis():.4}')\n",
    "    missing_values_count = df[df[fnc_feature].isnull()].shape[0]\n",
    "    training_samples_count = df.shape[0]\n",
    "    print(f'Missing Values: {missing_values_count}/{training_samples_count} ({missing_values_count * 100 / training_samples_count:.4}%)')\n",
    "\n",
    "    fig, axes = plt.subplots(ncols=3, nrows=2, figsize=(25, 12), dpi=100, constrained_layout=True)\n",
    "    title_size = 18\n",
    "    label_size = 18\n",
    "\n",
    "    # FNC Feature Training and Test Set Distribution\n",
    "    sns.distplot(df[df['is_train'] == 1][fnc_feature], label='Training', ax=axes[0][0])\n",
    "    sns.distplot(df[df['is_train'] == 0][fnc_feature], label='Test', ax=axes[0][0])\n",
    "    axes[0][0].set_xlabel('')\n",
    "    axes[0][0].tick_params(axis='x', labelsize=label_size)\n",
    "    axes[0][0].tick_params(axis='y', labelsize=label_size)\n",
    "    axes[0][0].legend()\n",
    "    axes[0][0].set_title(f'{fnc_feature} Distribution in Training and Test Set', size=title_size, pad=title_size)\n",
    "    \n",
    "    # FNC Feature vs age\n",
    "    sns.scatterplot(df[fnc_feature], df['age'], ax=axes[0][1])\n",
    "    axes[0][1].set_title(f'{fnc_feature} vs age', size=title_size, pad=title_size)\n",
    "    axes[0][1].set_xlabel('')\n",
    "    axes[0][1].set_ylabel('')\n",
    "    axes[0][1].tick_params(axis='x', labelsize=label_size)\n",
    "    axes[0][1].tick_params(axis='y', labelsize=label_size)\n",
    "    \n",
    "    # FNC Feature vs domain1_var1\n",
    "    sns.scatterplot(df[fnc_feature], df['domain1_var1'], ax=axes[0][2])\n",
    "    axes[0][2].set_title(f'{fnc_feature} vs domain1_var1', size=title_size, pad=title_size)\n",
    "    axes[0][2].set_xlabel('')\n",
    "    axes[0][2].set_ylabel('')\n",
    "    axes[0][2].tick_params(axis='x', labelsize=label_size)\n",
    "    axes[0][2].tick_params(axis='y', labelsize=label_size)\n",
    "    \n",
    "    # FNC Feature vs domain1_var2\n",
    "    sns.scatterplot(df[fnc_feature], df['domain1_var2'], ax=axes[1][0])\n",
    "    axes[1][0].set_title(f'{fnc_feature} vs domain1_var2', size=title_size, pad=title_size)\n",
    "    axes[1][0].set_xlabel('')\n",
    "    axes[1][0].set_ylabel('')\n",
    "    axes[1][0].tick_params(axis='x', labelsize=label_size)\n",
    "    axes[1][0].tick_params(axis='y', labelsize=label_size)\n",
    "    \n",
    "    # FNC Feature vs domain2_var1\n",
    "    sns.scatterplot(df[fnc_feature], df['domain2_var1'], ax=axes[1][1])\n",
    "    axes[1][1].set_title(f'{fnc_feature} vs domain2_var1', size=title_size, pad=title_size)\n",
    "    axes[1][1].set_xlabel('')\n",
    "    axes[1][1].set_ylabel('')\n",
    "    axes[1][1].tick_params(axis='x', labelsize=label_size)\n",
    "    axes[1][1].tick_params(axis='y', labelsize=label_size)\n",
    "    \n",
    "    # FNC Feature vs domain2_var2\n",
    "    sns.scatterplot(df[fnc_feature], df['domain2_var2'], ax=axes[1][2])\n",
    "    axes[1][2].set_title(f'{fnc_feature} vs domain2_var2', size=title_size, pad=title_size)\n",
    "    axes[1][2].set_xlabel('')\n",
    "    axes[1][2].set_ylabel('')\n",
    "    axes[1][2].tick_params(axis='x', labelsize=label_size)\n",
    "    axes[1][2].tick_params(axis='y', labelsize=label_size)\n",
    "    \n",
    "    plt.show()"
   ]
  },
  {
   "cell_type": "markdown",
   "metadata": {
    "collapsed": false
   },
   "source": [
    "### **3.1. Sub-cortical Network (SCN) Features**\n",
    "\n",
    "First FNC feature sub-group is SCN features. This is the smallest sub-group of fnc features and there are **10** features in it. This sub-group has cross-correlations with only itself.\n",
    "\n",
    "All of the SCN features follow a normal distribution but they are slightly tailed. Their distributions and descriptive statistical summary in training and test samples are very similar, but some of the features have higher peaks in test samples.\n",
    "\n",
    "None of the SCN features have a visible relationship with any of the targets. Data points of SCN features are scattered around the means of `domain1_var1`, `domain1_var2`, `domain2_var1`, `domain2_var2`, however `age` has a tiny relationship with SCN features.\n",
    "\n",
    "Some data points are very far away from mean clusters, they might be outliers."
   ]
  },
  {
   "cell_type": "code",
   "execution_count": null,
   "metadata": {
    "_kg_hide-input": true,
    "collapsed": false
   },
   "outputs": [],
   "source": [
    "scn_pattern = r'SCN\\(\\d+\\)_vs_[A-Z]+\\(\\d+\\)'\n",
    "scn_features = [col for col in fnc_features if re.match(scn_pattern, col)]\n",
    "\n",
    "for scn_feature in sorted(scn_features):\n",
    "    plot_fnc(scn_feature)"
   ]
  },
  {
   "cell_type": "markdown",
   "metadata": {
    "collapsed": false
   },
   "source": [
    "SCN features are strongly correlated with each other, but none of the SCN features are correlated with targets. Correlation between target and SCN features is even weaker than previous correlations."
   ]
  },
  {
   "cell_type": "code",
   "execution_count": null,
   "metadata": {
    "_kg_hide-input": true,
    "collapsed": false
   },
   "outputs": [],
   "source": [
    "scn_target_features = sorted(scn_features) + ['age', 'domain1_var1', 'domain1_var2', 'domain2_var1', 'domain2_var2']\n",
    "\n",
    "fig = plt.figure(figsize=(25, 25), dpi=100)\n",
    "\n",
    "sns.heatmap(df[scn_target_features].corr(),\n",
    "            annot=True,\n",
    "            square=True,\n",
    "            cmap='coolwarm',\n",
    "            annot_kws={'size': 15}, \n",
    "            fmt='.2f')   \n",
    "\n",
    "plt.tick_params(axis='x', labelsize=18, rotation=75)\n",
    "plt.tick_params(axis='y', labelsize=18, rotation=0)\n",
    "\n",
    "plt.title('Target and SCN Features Correlations', size=25, pad=25)\n",
    "plt.show()"
   ]
  },
  {
   "cell_type": "markdown",
   "metadata": {
    "collapsed": false
   },
   "source": [
    "### **3.2. Auditory Network (ADN) Features**\n",
    "\n",
    "Second FNC feature sub-group is ADN features. This is also the second smallest sub-group of fnc features and there are **11** features in it. This sub-group has cross-correlations with SCN (10) and itself (1).\n",
    "\n",
    "All of the ADN features follow a normal distribution but they are slightly tailed. Their distributions and descriptive statistical summary in training and test samples are very similar, but some of the features have higher peaks in test samples.\n",
    "\n",
    "None of the ADN features have a visible relationship with any of the targets. Data points of ADN features are scattered around the means of `domain1_var1`, `domain1_var2`, `domain2_var1`, `domain2_var2` and `age`.\n",
    "\n",
    "In features with tailed distributions, some data points are very far away from mean clusters, they might be outliers."
   ]
  },
  {
   "cell_type": "code",
   "execution_count": null,
   "metadata": {
    "_kg_hide-input": true,
    "collapsed": false
   },
   "outputs": [],
   "source": [
    "adn_pattern = r'ADN\\(\\d+\\)_vs_[A-Z]+\\(\\d+\\)'\n",
    "adn_features = [col for col in fnc_features if re.match(adn_pattern, col)]\n",
    "\n",
    "for adn_feature in sorted(adn_features):\n",
    "    plot_fnc(adn_feature)"
   ]
  },
  {
   "cell_type": "markdown",
   "metadata": {
    "collapsed": false
   },
   "source": [
    "ADN features are strongly correlated with each other if only ADN is cross-correlated with SCN. There are **10** ADN(2) vs SCN(5) features and they have very strong correlation. There is only one ADN vs ADN (`ADN(56)_vs_ADN(21)`) feature and it doesn't have any significant correlation with anything. Correlations between target and ADN features is very weak which can be seen at the bottom and right end."
   ]
  },
  {
   "cell_type": "code",
   "execution_count": null,
   "metadata": {
    "_kg_hide-input": true,
    "collapsed": false
   },
   "outputs": [],
   "source": [
    "adn_target_features = sorted(adn_features) + ['age', 'domain1_var1', 'domain1_var2', 'domain2_var1', 'domain2_var2']\n",
    "\n",
    "fig = plt.figure(figsize=(25, 25), dpi=100)\n",
    "\n",
    "sns.heatmap(df[adn_target_features].corr(),\n",
    "            annot=True,\n",
    "            square=True,\n",
    "            cmap='coolwarm',\n",
    "            annot_kws={'size': 15}, \n",
    "            fmt='.2f')   \n",
    "\n",
    "plt.tick_params(axis='x', labelsize=18, rotation=75)\n",
    "plt.tick_params(axis='y', labelsize=18, rotation=0)\n",
    "\n",
    "plt.title('Target and ADN Features Correlations', size=25, pad=25)\n",
    "plt.show()"
   ]
  },
  {
   "cell_type": "markdown",
   "metadata": {
    "collapsed": false
   },
   "source": [
    "### **3.3. Sensorimotor Network (SMN) Features**\n",
    "\n",
    "Third FNC feature sub-group is SMN features. This is a large sub-group compared to previous ones and there are **99** features in it. This sub-group has cross-correlations with SCN (45), ADN (18) and itself (36).\n",
    "\n",
    "All of the SMN features follow a normal distribution even though their shapes and tails vary a lot. Their distributions and descriptive statistical summary in training and test samples are very similar, but some of the features have small discrepancies.\n",
    "\n",
    "None of the SMN features have a visible relationship with any of the targets. Data points of SMN features are scattered around the means of `domain1_var1`, `domain1_var2`, `domain2_var1`, `domain2_var2` and `age`.\n",
    "\n",
    "In features with tailed distributions, some data points are very far away from mean clusters, they might be outliers."
   ]
  },
  {
   "cell_type": "code",
   "execution_count": null,
   "metadata": {
    "_kg_hide-input": true,
    "collapsed": false
   },
   "outputs": [],
   "source": [
    "smn_pattern = r'SMN\\(\\d+\\)_vs_[A-Z]+\\(\\d+\\)'\n",
    "smn_features = [col for col in fnc_features if re.match(smn_pattern, col)]\n",
    "\n",
    "for smn_feature in sorted(smn_features):\n",
    "    plot_fnc(smn_feature)"
   ]
  },
  {
   "cell_type": "markdown",
   "metadata": {
    "collapsed": false
   },
   "source": [
    "It is hard to identify correlations at feature level on this scale but it still gives lots of information. Since the feature names are sorted by alphabetical order, the correlations of feature groups are easy to detect.\n",
    "\n",
    "Every cross-correlation of SMN have very strong correlations inside the second network groups. This explains the bright red blocks near the diagonal axis.\n",
    "\n",
    "* `SMN(X)_vs_ADN(Y)`: `X` is strongly correlated with every different `Y` value for `ADN` \n",
    "* `SMN(X)_vs_SCN(Y)`: `X` is strongly correlated with every different `Y` value for `SCN` \n",
    "* `SMN(X)_vs_SMN(Y)`: `X` is strongly correlated with every different `Y` value for `SMN`\n",
    "\n",
    "Every cross-correlation of SMN have moderate correlations inside the first network groups. This explains the repeating skin and blue color blocks along the vertical and horizontal axis.\n",
    "\n",
    "* `SMN(X)_vs_ADN(Y)`: `Y` is strongly correlated with every different `X` value for `ADN` \n",
    "* `SMN(X)_vs_SCN(Y)`: `Y` is strongly correlated with every different `X` value for `SCN` \n",
    "* `SMN(X)_vs_SMN(Y)`: `Y` is strongly correlated with every different `X` value for `SMN`\n",
    "\n",
    "Correlations between target and SMN features is very weak which can be seen at the bottom and right end."
   ]
  },
  {
   "cell_type": "code",
   "execution_count": null,
   "metadata": {
    "_kg_hide-input": true,
    "collapsed": false
   },
   "outputs": [],
   "source": [
    "smn_target_features = sorted(smn_features) + ['age', 'domain1_var1', 'domain1_var2', 'domain2_var1', 'domain2_var2']\n",
    "\n",
    "fig = plt.figure(figsize=(40, 40), dpi=100)\n",
    "\n",
    "sns.heatmap(df[smn_target_features].corr(),\n",
    "            annot=False,\n",
    "            square=True,\n",
    "            cmap='coolwarm',\n",
    "            yticklabels=False,\n",
    "            xticklabels=False)   \n",
    "\n",
    "plt.tick_params(axis='x', labelsize=20, rotation=90)\n",
    "plt.tick_params(axis='y', labelsize=20, rotation=0)\n",
    "\n",
    "plt.title('Target and SMN Features Correlations', size=50, pad=50)\n",
    "plt.show()"
   ]
  },
  {
   "cell_type": "markdown",
   "metadata": {
    "collapsed": false
   },
   "source": [
    "### **3.4. Visual Network (VSN) Features** \n",
    "\n",
    "Fourth FNC feature sub-group is VSN features. This is a very large sub-group compared to previous ones and there are **180** features in it. This sub-group has cross-correlations with SCN (45), ADN (18), SMN (81) and itself (36).\n",
    "\n",
    "All of the VSN features follow a normal distribution even though their shapes and tails vary a lot. Some of the features in this group have quite long tails in both sides. Their distributions and descriptive statistical summary in training and test samples are very similar, but some of the features have small discrepancies.\n",
    "\n",
    "Some of the VSN features have barely visible negative relationship with targets. Data points of VSN features are even more scattered around the means of `domain1_var1`, `domain1_var2`, `domain2_var1`, `domain2_var2` and `age`.\n",
    "\n",
    "In features with heavy-tailed distributions, some data points are very far away from mean clusters, they might be outliers."
   ]
  },
  {
   "cell_type": "code",
   "execution_count": null,
   "metadata": {
    "_kg_hide-input": true,
    "collapsed": false
   },
   "outputs": [],
   "source": [
    "vsn_pattern = r'VSN\\(\\d+\\)_vs_[A-Z]+\\(\\d+\\)'\n",
    "vsn_features = [col for col in fnc_features if re.match(vsn_pattern, col)]\n",
    "\n",
    "for vsn_feature in sorted(vsn_features):\n",
    "    plot_fnc(vsn_feature)"
   ]
  },
  {
   "cell_type": "markdown",
   "metadata": {
    "collapsed": false
   },
   "source": [
    "It is hard to identify correlations at feature level on this scale but it still gives lots of information. Since the feature names are sorted by alphabetical order, the correlations of feature groups are easy to detect. The same pattern from SMN features can be seen on VSN features as well.\n",
    "\n",
    "Every cross-correlation of VSN have very strong correlations inside the second network groups. This explains the bright red blocks near the diagonal axis.\n",
    "\n",
    "* `VSN(X)_vs_ADN(Y)`: `X` is strongly correlated with every different `Y` value for `ADN` \n",
    "* `VSN(X)_vs_SCN(Y)`: `X` is strongly correlated with every different `Y` value for `SCN` \n",
    "* `VSN(X)_vs_SMN(Y)`: `X` is strongly correlated with every different `Y` value for `SMN`\n",
    "* `VSN(X)_vs_VSN(Y)`: `X` is strongly correlated with every different `Y` value for `VSN`\n",
    "\n",
    "Every cross-correlation of VSN have moderate correlations inside the first network groups. This explains the repeating skin and blue color blocks along the vertical and horizontal axis.\n",
    "\n",
    "* `VSN(X)_vs_ADN(Y)`: `Y` is strongly correlated with every different `X` value for `ADN` \n",
    "* `VSN(X)_vs_SCN(Y)`: `Y` is strongly correlated with every different `X` value for `SCN` \n",
    "* `VSN(X)_vs_SMN(Y)`: `Y` is strongly correlated with every different `X` value for `SMN`\n",
    "* `VSN(X)_vs_VSN(Y)`: `Y` is strongly correlated with every different `X` value for `VSN`\n",
    "\n",
    "Correlations between target and VSN features is very weak which can be seen at the bottom and right end."
   ]
  },
  {
   "cell_type": "code",
   "execution_count": null,
   "metadata": {
    "_kg_hide-input": true,
    "collapsed": false
   },
   "outputs": [],
   "source": [
    "vsn_target_features = sorted(vsn_features) + ['age', 'domain1_var1', 'domain1_var2', 'domain2_var1', 'domain2_var2']\n",
    "\n",
    "fig = plt.figure(figsize=(40, 40), dpi=100)\n",
    "\n",
    "sns.heatmap(df[vsn_target_features].corr(),\n",
    "            annot=False,\n",
    "            square=True,\n",
    "            cmap='coolwarm',\n",
    "            yticklabels=False,\n",
    "            xticklabels=False)   \n",
    "\n",
    "plt.tick_params(axis='x', labelsize=20, rotation=90)\n",
    "plt.tick_params(axis='y', labelsize=20, rotation=0)\n",
    "\n",
    "plt.title('Target and VSN Features Correlations', size=50, pad=50)\n",
    "plt.show()"
   ]
  },
  {
   "cell_type": "markdown",
   "metadata": {
    "collapsed": false
   },
   "source": [
    "### **3.5. Cognitive-Control Network (CON) Features** "
   ]
  },
  {
   "cell_type": "code",
   "execution_count": null,
   "metadata": {
    "_kg_hide-input": true,
    "collapsed": false
   },
   "outputs": [],
   "source": [
    "con_pattern = r'CON\\(\\d+\\)_vs_[A-Z]+\\(\\d+\\)'\n",
    "con_features = [col for col in fnc_features if re.match(con_pattern, col)]\n",
    "\n",
    "for con_feature in sorted(con_features):\n",
    "    plot_fnc(con_feature)"
   ]
  },
  {
   "cell_type": "code",
   "execution_count": null,
   "metadata": {
    "_kg_hide-input": true,
    "collapsed": false
   },
   "outputs": [],
   "source": [
    "con_target_features = sorted(con_features) + ['age', 'domain1_var1', 'domain1_var2', 'domain2_var1', 'domain2_var2']\n",
    "\n",
    "fig = plt.figure(figsize=(50, 50), dpi=100)\n",
    "\n",
    "sns.heatmap(df[con_target_features].corr(),\n",
    "            annot=False,\n",
    "            square=True,\n",
    "            cmap='coolwarm',\n",
    "            yticklabels=False,\n",
    "            xticklabels=False)   \n",
    "\n",
    "plt.tick_params(axis='x', labelsize=20, rotation=90)\n",
    "plt.tick_params(axis='y', labelsize=20, rotation=0)\n",
    "\n",
    "plt.title('Target and CON Features Correlations', size=50, pad=50)\n",
    "plt.show()"
   ]
  },
  {
   "cell_type": "code",
   "execution_count": null,
   "metadata": {
    "collapsed": false
   },
   "outputs": [],
   "source": [
    "# To Be Continued"
   ]
  }
 ],
 "metadata": {
  "kernelspec": {
   "argv": [
    "/home/yan/anaconda3/bin/python",
    "-m",
    "ipykernel_launcher",
    "-f",
    "{connection_file}"
   ],
   "display_name": "Python 3",
   "env": null,
   "interrupt_mode": "signal",
   "language": "python",
   "metadata": null,
   "name": "python3"
  },
  "language_info": {
   "codemirror_mode": {
    "name": "ipython",
    "version": 3
   },
   "file_extension": ".py",
   "mimetype": "text/x-python",
   "name": "python",
   "nbconvert_exporter": "python",
   "pygments_lexer": "ipython3",
   "version": "3.6.4"
  },
  "name": "TReNDS Neuroimaging - EDA.ipynb"
 },
 "nbformat": 4,
 "nbformat_minor": 4
}
